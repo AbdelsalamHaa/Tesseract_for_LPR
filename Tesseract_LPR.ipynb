{
 "cells": [
  {
   "cell_type": "markdown",
   "metadata": {},
   "source": [
    "# Import Libraries"
   ]
  },
  {
   "cell_type": "code",
   "execution_count": 2,
   "metadata": {},
   "outputs": [
    {
     "name": "stdout",
     "output_type": "stream",
     "text": [
      "Using matplotlib backend: Qt5Agg\n"
     ]
    }
   ],
   "source": [
    "import cv2\n",
    "import numpy as np\n",
    "# from imutils import contours\n",
    "import pytesseract\n",
    "import glob \n",
    "pytesseract.pytesseract.tesseract_cmd = r\"C:\\Program Files\\Tesseract-OCR\\tesseract\"\n",
    "import os \n",
    "import re\n",
    "import editdistance\n",
    "import matplotlib.pyplot as plt \n",
    "from easyocr import Reader\n",
    "from scipy.stats import shapiro\n",
    "from scipy.stats import binom\n",
    "%matplotlib"
   ]
  },
  {
   "cell_type": "markdown",
   "metadata": {},
   "source": [
    "# Helper Functions"
   ]
  },
  {
   "cell_type": "code",
   "execution_count": 3,
   "metadata": {},
   "outputs": [],
   "source": [
    "def showImage(text,image):\n",
    "    cv2.imshow(text,image)\n",
    "    cv2.waitKey(0)\n",
    "    cv2.destroyAllWindows()\n",
    "\n",
    "def calculate_error(output,filePath,ext):\n",
    "    fileName = os.path.basename(filePath)\n",
    "    print(fileName)\n",
    "    label = re.search(f\"-(.*).{ext}\",fileName).group(1)\n",
    "    error = editdistance.distance(label,output)\n",
    "    print(\"lable:\"+label+\"=>\"+\"output:\"+output+\"=>Error:\"+str(error))\n",
    "    print(\"-------------------------------------------------------------------------------------------\")\n",
    "    \n",
    "    return label,output,error"
   ]
  },
  {
   "cell_type": "markdown",
   "metadata": {},
   "source": [
    "# PreProcessing and Tesseract Functions"
   ]
  },
  {
   "cell_type": "code",
   "execution_count": 4,
   "metadata": {},
   "outputs": [],
   "source": [
    "def clean_image(image):\n",
    "    gray = cv2.cvtColor(image, cv2.COLOR_BGR2GRAY)\n",
    "    filtered = cv2.GaussianBlur(gray,(3,3),-1,-1)\n",
    "    thresh = cv2.threshold(filtered, 0, 90, cv2.THRESH_BINARY_INV+ cv2.THRESH_OTSU)[1]\n",
    "#     150\n",
    "    return thresh\n",
    "\n",
    "def cleanup_text(text):\n",
    "    if text!=\"\":\n",
    "        text = text.replace(\" \",\"\")\n",
    "        text = text.replace(\"\\n\",\"\")\n",
    "        return \"\".join([c if ord(c) < 128 else \"\" for c in text]).strip()\n",
    "    else:\n",
    "        return \"\"\n",
    "def build_tesseract_options(psm=7):\n",
    "    # tell Tesseract to only OCR alphanumeric characters\n",
    "    alphanumeric = \"ABCDEFGHIJKLMNOPQRSTUVWXYZ0123456789\"\n",
    "    options = \"--oem 3 -c tessedit_char_whitelist={}\".format(alphanumeric)\n",
    "    # set the PSM mode\n",
    "    options += \" --psm {}\".format(psm)\n",
    "    # return the built options string\n",
    "    return options\n",
    "def find_and_ocr(image, psm=7):\n",
    "    # OCR the license plate\n",
    "    options = build_tesseract_options(psm=psm)\n",
    "    lpText = pytesseract.image_to_string(image, config=options)\n",
    "    return lpText"
   ]
  },
  {
   "cell_type": "markdown",
   "metadata": {},
   "source": [
    "# Testing"
   ]
  },
  {
   "cell_type": "code",
   "execution_count": null,
   "metadata": {},
   "outputs": [],
   "source": [
    "folder = r\"path to the folder that contains the LPR images u want to test/*\"\n",
    "files_to_test = []\n",
    "errors = []\n",
    "for file in glob.glob(folder_4)  :\n",
    "    if os.path.basename(file)[0]==\"h\" or True: \n",
    "        if \".jpg\" in file :\n",
    "            image = cv2.imread(file)\n",
    "            f_img = clean_image(image)\n",
    "#             showImage(\"cleaned\",f_img)\n",
    "            text = cleanup_text(find_and_ocr(f_img,11))\n",
    "            label,output,error = calculate_error(text,file,\"jpg\")\n",
    "            if error == 0 :\n",
    "                files_to_test.append(file)\n",
    "            errors.append(error)\n",
    "#                 if text!=\"\" or text!=\" \":\n",
    "#                     files_to_test.append(os.path.basename(file))"
   ]
  }
 ],
 "metadata": {
  "kernelspec": {
   "display_name": "Python 3",
   "language": "python",
   "name": "python3"
  },
  "language_info": {
   "codemirror_mode": {
    "name": "ipython",
    "version": 3
   },
   "file_extension": ".py",
   "mimetype": "text/x-python",
   "name": "python",
   "nbconvert_exporter": "python",
   "pygments_lexer": "ipython3",
   "version": "3.8.3"
  }
 },
 "nbformat": 4,
 "nbformat_minor": 4
}
